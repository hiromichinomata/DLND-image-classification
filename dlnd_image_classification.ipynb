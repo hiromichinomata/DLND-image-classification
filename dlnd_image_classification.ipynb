{
 "cells": [
  {
   "cell_type": "markdown",
   "metadata": {
    "collapsed": true,
    "deletable": true,
    "editable": true
   },
   "source": [
    "# Image Classification\n",
    "In this project, you'll classify images from the [CIFAR-10 dataset](https://www.cs.toronto.edu/~kriz/cifar.html).  The dataset consists of airplanes, dogs, cats, and other objects. You'll preprocess the images, then train a convolutional neural network on all the samples. The images need to be normalized and the labels need to be one-hot encoded.  You'll get to apply what you learned and build a convolutional, max pooling, dropout, and fully connected layers.  At the end, you'll get to see your neural network's predictions on the sample images.\n",
    "## Get the Data\n",
    "Run the following cell to download the [CIFAR-10 dataset for python](https://www.cs.toronto.edu/~kriz/cifar-10-python.tar.gz)."
   ]
  },
  {
   "cell_type": "code",
   "execution_count": 1,
   "metadata": {
    "collapsed": false,
    "deletable": true,
    "editable": true
   },
   "outputs": [
    {
     "name": "stdout",
     "output_type": "stream",
     "text": [
      "All files found!\n"
     ]
    }
   ],
   "source": [
    "\"\"\"\n",
    "DON'T MODIFY ANYTHING IN THIS CELL THAT IS BELOW THIS LINE\n",
    "\"\"\"\n",
    "from urllib.request import urlretrieve\n",
    "from os.path import isfile, isdir\n",
    "from tqdm import tqdm\n",
    "import problem_unittests as tests\n",
    "import tarfile\n",
    "\n",
    "cifar10_dataset_folder_path = 'cifar-10-batches-py'\n",
    "\n",
    "class DLProgress(tqdm):\n",
    "    last_block = 0\n",
    "\n",
    "    def hook(self, block_num=1, block_size=1, total_size=None):\n",
    "        self.total = total_size\n",
    "        self.update((block_num - self.last_block) * block_size)\n",
    "        self.last_block = block_num\n",
    "\n",
    "if not isfile('cifar-10-python.tar.gz'):\n",
    "    with DLProgress(unit='B', unit_scale=True, miniters=1, desc='CIFAR-10 Dataset') as pbar:\n",
    "        urlretrieve(\n",
    "            'https://www.cs.toronto.edu/~kriz/cifar-10-python.tar.gz',\n",
    "            'cifar-10-python.tar.gz',\n",
    "            pbar.hook)\n",
    "\n",
    "if not isdir(cifar10_dataset_folder_path):\n",
    "    with tarfile.open('cifar-10-python.tar.gz') as tar:\n",
    "        tar.extractall()\n",
    "        tar.close()\n",
    "\n",
    "\n",
    "tests.test_folder_path(cifar10_dataset_folder_path)"
   ]
  },
  {
   "cell_type": "markdown",
   "metadata": {
    "deletable": true,
    "editable": true
   },
   "source": [
    "## Explore the Data\n",
    "The dataset is broken into batches to prevent your machine from running out of memory.  The CIFAR-10 dataset consists of 5 batches, named `data_batch_1`, `data_batch_2`, etc.. Each batch contains the labels and images that are one of the following:\n",
    "* airplane\n",
    "* automobile\n",
    "* bird\n",
    "* cat\n",
    "* deer\n",
    "* dog\n",
    "* frog\n",
    "* horse\n",
    "* ship\n",
    "* truck\n",
    "\n",
    "Understanding a dataset is part of making predictions on the data.  Play around with the code cell below by changing the `batch_id` and `sample_id`. The `batch_id` is the id for a batch (1-5). The `sample_id` is the id for a image and label pair in the batch.\n",
    "\n",
    "Ask yourself \"What are all possible labels?\", \"What is the range of values for the image data?\", \"Are the labels in order or random?\".  Answers to questions like these will help you preprocess the data and end up with better predictions."
   ]
  },
  {
   "cell_type": "code",
   "execution_count": 2,
   "metadata": {
    "collapsed": false,
    "deletable": true,
    "editable": true
   },
   "outputs": [
    {
     "name": "stdout",
     "output_type": "stream",
     "text": [
      "\n",
      "Stats of batch 1:\n",
      "Samples: 10000\n",
      "Label Counts: {0: 1005, 1: 974, 2: 1032, 3: 1016, 4: 999, 5: 937, 6: 1030, 7: 1001, 8: 1025, 9: 981}\n",
      "First 20 Labels: [6, 9, 9, 4, 1, 1, 2, 7, 8, 3, 4, 7, 7, 2, 9, 9, 9, 3, 2, 6]\n",
      "\n",
      "Example of Image 5:\n",
      "Image - Min Value: 0 Max Value: 252\n",
      "Image - Shape: (32, 32, 3)\n",
      "Label - Label Id: 1 Name: automobile\n"
     ]
    },
    {
     "data": {
      "image/png": "[encoded data removed]",
      "text/plain": [
       "<matplotlib.figure.Figure at 0x7f0fdfde9cc0>"
      ]
     },
     "metadata": {
      "image/png": {
       "height": 250,
       "width": 253
      }
     },
     "output_type": "display_data"
    }
   ],
   "source": [
    "%matplotlib inline\n",
    "%config InlineBackend.figure_format = 'retina'\n",
    "\n",
    "import helper\n",
    "import numpy as np\n",
    "\n",
    "# Explore the dataset\n",
    "batch_id = 1\n",
    "sample_id = 5\n",
    "helper.display_stats(cifar10_dataset_folder_path, batch_id, sample_id)"
   ]
  },
  {
   "cell_type": "markdown",
   "metadata": {
    "deletable": true,
    "editable": true
   },
   "source": [
    "## Implement Preprocess Functions\n",
    "### Normalize\n",
    "In the cell below, implement the `normalize` function to take in image data, `x`, and return it as a normalized Numpy array. The values should be in the range of 0 to 1, inclusive.  The return object should be the same shape as `x`."
   ]
  },
  {
   "cell_type": "code",
   "execution_count": 3,
   "metadata": {
    "collapsed": false,
    "deletable": true,
    "editable": true
   },
   "outputs": [
    {
     "name": "stdout",
     "output_type": "stream",
     "text": [
      "Tests Passed\n"
     ]
    }
   ],
   "source": [
    "def normalize(x):\n",
    "    \"\"\"\n",
    "    Normalize a list of sample image data in the range of 0 to 1\n",
    "    : x: List of image data.  The image shape is (32, 32, 3)\n",
    "    : return: Numpy array of normalize data\n",
    "    \"\"\"\n",
    "    # TODO: Implement Function\n",
    "    return (x / 255.0)\n",
    "\n",
    "\n",
    "\"\"\"\n",
    "DON'T MODIFY ANYTHING IN THIS CELL THAT IS BELOW THIS LINE\n",
    "\"\"\"\n",
    "tests.test_normalize(normalize)"
   ]
  },
  {
   "cell_type": "markdown",
   "metadata": {
    "deletable": true,
    "editable": true
   },
   "source": [
    "### One-hot encode\n",
    "Just like the previous code cell, you'll be implementing a function for preprocessing.  This time, you'll implement the `one_hot_encode` function. The input, `x`, are a list of labels.  Implement the function to return the list of labels as One-Hot encoded Numpy array.  The possible values for labels are 0 to 9. The one-hot encoding function should return the same encoding for each value between each call to `one_hot_encode`.  Make sure to save the map of encodings outside the function.\n",
    "\n",
    "Hint: Don't reinvent the wheel."
   ]
  },
  {
   "cell_type": "code",
   "execution_count": 4,
   "metadata": {
    "collapsed": false,
    "deletable": true,
    "editable": true
   },
   "outputs": [
    {
     "name": "stdout",
     "output_type": "stream",
     "text": [
      "Tests Passed\n"
     ]
    }
   ],
   "source": [
    "def one_hot_encode(x):\n",
    "    \"\"\"\n",
    "    One hot encode a list of sample labels. Return a one-hot encoded vector for each label.\n",
    "    : x: List of sample Labels\n",
    "    : return: Numpy array of one-hot encoded labels\n",
    "    \"\"\"\n",
    "    # TODO: Implement Function\n",
    "    return np.eye(10)[x]\n",
    "\n",
    "\n",
    "\"\"\"\n",
    "DON'T MODIFY ANYTHING IN THIS CELL THAT IS BELOW THIS LINE\n",
    "\"\"\"\n",
    "tests.test_one_hot_encode(one_hot_encode)"
   ]
  },
  {
   "cell_type": "markdown",
   "metadata": {
    "deletable": true,
    "editable": true
   },
   "source": [
    "### Randomize Data\n",
    "As you saw from exploring the data above, the order of the samples are randomized.  It doesn't hurt to randomize it again, but you don't need to for this dataset."
   ]
  },
  {
   "cell_type": "markdown",
   "metadata": {
    "deletable": true,
    "editable": true
   },
   "source": [
    "## Preprocess all the data and save it\n",
    "Running the code cell below will preprocess all the CIFAR-10 data and save it to file. The code below also uses 10% of the training data for validation."
   ]
  },
  {
   "cell_type": "code",
   "execution_count": 5,
   "metadata": {
    "collapsed": false,
    "deletable": true,
    "editable": true
   },
   "outputs": [],
   "source": [
    "\"\"\"\n",
    "DON'T MODIFY ANYTHING IN THIS CELL\n",
    "\"\"\"\n",
    "# Preprocess Training, Validation, and Testing Data\n",
    "helper.preprocess_and_save_data(cifar10_dataset_folder_path, normalize, one_hot_encode)"
   ]
  },
  {
   "cell_type": "markdown",
   "metadata": {
    "deletable": true,
    "editable": true
   },
   "source": [
    "# Check Point\n",
    "This is your first checkpoint.  If you ever decide to come back to this notebook or have to restart the notebook, you can start from here.  The preprocessed data has been saved to disk."
   ]
  },
  {
   "cell_type": "code",
   "execution_count": 6,
   "metadata": {
    "collapsed": true,
    "deletable": true,
    "editable": true
   },
   "outputs": [],
   "source": [
    "\"\"\"\n",
    "DON'T MODIFY ANYTHING IN THIS CELL\n",
    "\"\"\"\n",
    "import pickle\n",
    "import problem_unittests as tests\n",
    "import helper\n",
    "\n",
    "# Load the Preprocessed Validation data\n",
    "valid_features, valid_labels = pickle.load(open('preprocess_validation.p', mode='rb'))"
   ]
  },
  {
   "cell_type": "markdown",
   "metadata": {
    "deletable": true,
    "editable": true
   },
   "source": [
    "## Build the network\n",
    "For the neural network, you'll build each layer into a function.  Most of the code you've seen has been outside of functions. To test your code more thoroughly, we require that you put each layer in a function.  This allows us to give you better feedback and test for simple mistakes using our unittests before you submit your project.\n",
    "\n",
    ">**Note:** If you're finding it hard to dedicate enough time for this course each week, we've provided a small shortcut to this part of the project. In the next couple of problems, you'll have the option to use classes from the [TensorFlow Layers](https://www.tensorflow.org/api_docs/python/tf/layers) or [TensorFlow Layers (contrib)](https://www.tensorflow.org/api_guides/python/contrib.layers) packages to build each layer, except the layers you build in the \"Convolutional and Max Pooling Layer\" section.  TF Layers is similar to Keras's and TFLearn's abstraction to layers, so it's easy to pickup.\n",
    "\n",
    ">However, if you would like to get the most out of this course, try to solve all the problems _without_ using anything from the TF Layers packages. You **can** still use classes from other packages that happen to have the same name as ones you find in TF Layers! For example, instead of using the TF Layers version of the `conv2d` class, [tf.layers.conv2d](https://www.tensorflow.org/api_docs/python/tf/layers/conv2d), you would want to use the TF Neural Network version of `conv2d`, [tf.nn.conv2d](https://www.tensorflow.org/api_docs/python/tf/nn/conv2d). \n",
    "\n",
    "Let's begin!\n",
    "\n",
    "### Input\n",
    "The neural network needs to read the image data, one-hot encoded labels, and dropout keep probability. Implement the following functions\n",
    "* Implement `neural_net_image_input`\n",
    " * Return a [TF Placeholder](https://www.tensorflow.org/api_docs/python/tf/placeholder)\n",
    " * Set the shape using `image_shape` with batch size set to `None`.\n",
    " * Name the TensorFlow placeholder \"x\" using the TensorFlow `name` parameter in the [TF Placeholder](https://www.tensorflow.org/api_docs/python/tf/placeholder).\n",
    "* Implement `neural_net_label_input`\n",
    " * Return a [TF Placeholder](https://www.tensorflow.org/api_docs/python/tf/placeholder)\n",
    " * Set the shape using `n_classes` with batch size set to `None`.\n",
    " * Name the TensorFlow placeholder \"y\" using the TensorFlow `name` parameter in the [TF Placeholder](https://www.tensorflow.org/api_docs/python/tf/placeholder).\n",
    "* Implement `neural_net_keep_prob_input`\n",
    " * Return a [TF Placeholder](https://www.tensorflow.org/api_docs/python/tf/placeholder) for dropout keep probability.\n",
    " * Name the TensorFlow placeholder \"keep_prob\" using the TensorFlow `name` parameter in the [TF Placeholder](https://www.tensorflow.org/api_docs/python/tf/placeholder).\n",
    "\n",
    "These names will be used at the end of the project to load your saved model.\n",
    "\n",
    "Note: `None` for shapes in TensorFlow allow for a dynamic size."
   ]
  },
  {
   "cell_type": "code",
   "execution_count": 7,
   "metadata": {
    "collapsed": false,
    "deletable": true,
    "editable": true
   },
   "outputs": [
    {
     "name": "stdout",
     "output_type": "stream",
     "text": [
      "Image Input Tests Passed.\n",
      "Label Input Tests Passed.\n",
      "Keep Prob Tests Passed.\n"
     ]
    }
   ],
   "source": [
    "import tensorflow as tf\n",
    "\n",
    "def neural_net_image_input(image_shape):\n",
    "    \"\"\"\n",
    "    Return a Tensor for a batch of image input\n",
    "    : image_shape: Shape of the images\n",
    "    : return: Tensor for image input.\n",
    "    \"\"\"\n",
    "    # TODO: Implement Function\n",
    "    return tf.placeholder(tf.float32, (None, *image_shape), \"x\")\n",
    "\n",
    "\n",
    "def neural_net_label_input(n_classes):\n",
    "    \"\"\"\n",
    "    Return a Tensor for a batch of label input\n",
    "    : n_classes: Number of classes\n",
    "    : return: Tensor for label input.\n",
    "    \"\"\"\n",
    "    # TODO: Implement Function\n",
    "    return tf.placeholder(tf.float32, (None, n_classes), \"y\")\n",
    "\n",
    "\n",
    "def neural_net_keep_prob_input():\n",
    "    \"\"\"\n",
    "    Return a Tensor for keep probability\n",
    "    : return: Tensor for keep probability.\n",
    "    \"\"\"\n",
    "    # TODO: Implement Function\n",
    "    return tf.placeholder(tf.float32,None, \"keep_prob\")\n",
    "\n",
    "\n",
    "\"\"\"\n",
    "DON'T MODIFY ANYTHING IN THIS CELL THAT IS BELOW THIS LINE\n",
    "\"\"\"\n",
    "tf.reset_default_graph()\n",
    "tests.test_nn_image_inputs(neural_net_image_input)\n",
    "tests.test_nn_label_inputs(neural_net_label_input)\n",
    "tests.test_nn_keep_prob_inputs(neural_net_keep_prob_input)"
   ]
  },
  {
   "cell_type": "markdown",
   "metadata": {
    "deletable": true,
    "editable": true
   },
   "source": [
    "### Convolution and Max Pooling Layer\n",
    "Convolution layers have a lot of success with images. For this code cell, you should implement the function `conv2d_maxpool` to apply convolution then max pooling:\n",
    "* Create the weight and bias using `conv_ksize`, `conv_num_outputs` and the shape of `x_tensor`.\n",
    "* Apply a convolution to `x_tensor` using weight and `conv_strides`.\n",
    " * We recommend you use same padding, but you're welcome to use any padding.\n",
    "* Add bias\n",
    "* Add a nonlinear activation to the convolution.\n",
    "* Apply Max Pooling using `pool_ksize` and `pool_strides`.\n",
    " * We recommend you use same padding, but you're welcome to use any padding.\n",
    "\n",
    "**Note:** You **can't** use [TensorFlow Layers](https://www.tensorflow.org/api_docs/python/tf/layers) or [TensorFlow Layers (contrib)](https://www.tensorflow.org/api_guides/python/contrib.layers) for **this** layer, but you can still use TensorFlow's [Neural Network](https://www.tensorflow.org/api_docs/python/tf/nn) package. You may still use the shortcut option for all the **other** layers."
   ]
  },
  {
   "cell_type": "code",
   "execution_count": 8,
   "metadata": {
    "collapsed": false,
    "deletable": true,
    "editable": true
   },
   "outputs": [
    {
     "name": "stdout",
     "output_type": "stream",
     "text": [
      "Tests Passed\n"
     ]
    }
   ],
   "source": [
    "def conv2d_maxpool(x_tensor, conv_num_outputs, conv_ksize, conv_strides, pool_ksize, pool_strides):\n",
    "    \"\"\"\n",
    "    Apply convolution then max pooling to x_tensor\n",
    "    :param x_tensor: TensorFlow Tensor\n",
    "    :param conv_num_outputs: Number of outputs for the convolutional layer\n",
    "    :param conv_ksize: kernal size 2-D Tuple for the convolutional layer\n",
    "    :param conv_strides: Stride 2-D Tuple for convolution\n",
    "    :param pool_ksize: kernal size 2-D Tuple for pool\n",
    "    :param pool_strides: Stride 2-D Tuple for pool\n",
    "    : return: A tensor that represents convolution and max pooling of x_tensor\n",
    "    \"\"\"\n",
    "    # TODO: Implement Function\n",
    "\n",
    "    weight = tf.Variable(tf.random_normal((conv_ksize[0], conv_ksize[1], x_tensor.get_shape().as_list()[3], conv_num_outputs), stddev=0.35))\n",
    "    bias = tf.Variable(tf.zeros(conv_num_outputs))\n",
    "    \n",
    "    x_tensor = tf.nn.conv2d(x_tensor, weight, (1, conv_strides[0], conv_strides[1], 1), \"SAME\")\n",
    "    x_tensor = tf.nn.bias_add(x_tensor, bias)\n",
    "    x_tensor = tf.nn.relu(x_tensor)\n",
    "    x_tensor = tf.nn.max_pool(x_tensor, (1, pool_ksize[0], pool_ksize[1], 1), (1, pool_strides[0], pool_strides[0], 1), \"SAME\")\n",
    "    \n",
    "    return x_tensor\n",
    "\n",
    "\n",
    "\"\"\"\n",
    "DON'T MODIFY ANYTHING IN THIS CELL THAT IS BELOW THIS LINE\n",
    "\"\"\"\n",
    "tests.test_con_pool(conv2d_maxpool)"
   ]
  },
  {
   "cell_type": "markdown",
   "metadata": {
    "deletable": true,
    "editable": true
   },
   "source": [
    "### Flatten Layer\n",
    "Implement the `flatten` function to change the dimension of `x_tensor` from a 4-D tensor to a 2-D tensor.  The output should be the shape (*Batch Size*, *Flattened Image Size*). Shortcut option: you can use classes from the [TensorFlow Layers](https://www.tensorflow.org/api_docs/python/tf/layers) or [TensorFlow Layers (contrib)](https://www.tensorflow.org/api_guides/python/contrib.layers) packages for this layer. For more of a challenge, only use other TensorFlow packages."
   ]
  },
  {
   "cell_type": "code",
   "execution_count": 9,
   "metadata": {
    "collapsed": false,
    "deletable": true,
    "editable": true
   },
   "outputs": [
    {
     "name": "stdout",
     "output_type": "stream",
     "text": [
      "Tests Passed\n"
     ]
    }
   ],
   "source": [
    "def flatten(x_tensor):\n",
    "    \"\"\"\n",
    "    Flatten x_tensor to (Batch Size, Flattened Image Size)\n",
    "    : x_tensor: A tensor of size (Batch Size, ...), where ... are the image dimensions.\n",
    "    : return: A tensor of size (Batch Size, Flattened Image Size).\n",
    "    \"\"\"\n",
    "    # TODO: Implement Function\n",
    "    return tf.contrib.layers.flatten(x_tensor)\n",
    "\n",
    "\n",
    "\"\"\"\n",
    "DON'T MODIFY ANYTHING IN THIS CELL THAT IS BELOW THIS LINE\n",
    "\"\"\"\n",
    "tests.test_flatten(flatten)"
   ]
  },
  {
   "cell_type": "markdown",
   "metadata": {
    "deletable": true,
    "editable": true
   },
   "source": [
    "### Fully-Connected Layer\n",
    "Implement the `fully_conn` function to apply a fully connected layer to `x_tensor` with the shape (*Batch Size*, *num_outputs*). Shortcut option: you can use classes from the [TensorFlow Layers](https://www.tensorflow.org/api_docs/python/tf/layers) or [TensorFlow Layers (contrib)](https://www.tensorflow.org/api_guides/python/contrib.layers) packages for this layer. For more of a challenge, only use other TensorFlow packages."
   ]
  },
  {
   "cell_type": "code",
   "execution_count": 10,
   "metadata": {
    "collapsed": false,
    "deletable": true,
    "editable": true
   },
   "outputs": [
    {
     "name": "stdout",
     "output_type": "stream",
     "text": [
      "Tests Passed\n"
     ]
    }
   ],
   "source": [
    "def fully_conn(x_tensor, num_outputs):\n",
    "    \"\"\"\n",
    "    Apply a fully connected layer to x_tensor using weight and bias\n",
    "    : x_tensor: A 2-D tensor where the first dimension is batch size.\n",
    "    : num_outputs: The number of output that the new tensor should be.\n",
    "    : return: A 2-D tensor where the second dimension is num_outputs.\n",
    "    \"\"\"\n",
    "    # TODO: Implement Function\n",
    "    return tf.layers.dense(x_tensor, num_outputs,activation=tf.nn.relu)\n",
    "\n",
    "\n",
    "\"\"\"\n",
    "DON'T MODIFY ANYTHING IN THIS CELL THAT IS BELOW THIS LINE\n",
    "\"\"\"\n",
    "tests.test_fully_conn(fully_conn)"
   ]
  },
  {
   "cell_type": "markdown",
   "metadata": {
    "deletable": true,
    "editable": true
   },
   "source": [
    "### Output Layer\n",
    "Implement the `output` function to apply a fully connected layer to `x_tensor` with the shape (*Batch Size*, *num_outputs*). Shortcut option: you can use classes from the [TensorFlow Layers](https://www.tensorflow.org/api_docs/python/tf/layers) or [TensorFlow Layers (contrib)](https://www.tensorflow.org/api_guides/python/contrib.layers) packages for this layer. For more of a challenge, only use other TensorFlow packages.\n",
    "\n",
    "**Note:** Activation, softmax, or cross entropy should **not** be applied to this."
   ]
  },
  {
   "cell_type": "code",
   "execution_count": 11,
   "metadata": {
    "collapsed": false,
    "deletable": true,
    "editable": true
   },
   "outputs": [
    {
     "name": "stdout",
     "output_type": "stream",
     "text": [
      "Tests Passed\n"
     ]
    }
   ],
   "source": [
    "def output(x_tensor, num_outputs):\n",
    "    \"\"\"\n",
    "    Apply a output layer to x_tensor using weight and bias\n",
    "    : x_tensor: A 2-D tensor where the first dimension is batch size.\n",
    "    : num_outputs: The number of output that the new tensor should be.\n",
    "    : return: A 2-D tensor where the second dimension is num_outputs.\n",
    "    \"\"\"\n",
    "    # TODO: Implement Function\n",
    "    return tf.layers.dense(x_tensor, num_outputs, activation=None)\n",
    "\n",
    "\n",
    "\"\"\"\n",
    "DON'T MODIFY ANYTHING IN THIS CELL THAT IS BELOW THIS LINE\n",
    "\"\"\"\n",
    "tests.test_output(output)"
   ]
  },
  {
   "cell_type": "markdown",
   "metadata": {
    "deletable": true,
    "editable": true
   },
   "source": [
    "### Create Convolutional Model\n",
    "Implement the function `conv_net` to create a convolutional neural network model. The function takes in a batch of images, `x`, and outputs logits.  Use the layers you created above to create this model:\n",
    "\n",
    "* Apply 1, 2, or 3 Convolution and Max Pool layers\n",
    "* Apply a Flatten Layer\n",
    "* Apply 1, 2, or 3 Fully Connected Layers\n",
    "* Apply an Output Layer\n",
    "* Return the output\n",
    "* Apply [TensorFlow's Dropout](https://www.tensorflow.org/api_docs/python/tf/nn/dropout) to one or more layers in the model using `keep_prob`. "
   ]
  },
  {
   "cell_type": "code",
   "execution_count": 152,
   "metadata": {
    "collapsed": false,
    "deletable": true,
    "editable": true
   },
   "outputs": [
    {
     "name": "stdout",
     "output_type": "stream",
     "text": [
      "Neural Network Built!\n"
     ]
    }
   ],
   "source": [
    "def conv_net(x, keep_prob):\n",
    "    \"\"\"\n",
    "    Create a convolutional neural network model\n",
    "    : x: Placeholder tensor that holds image data.\n",
    "    : keep_prob: Placeholder tensor that hold dropout keep probability.\n",
    "    : return: Tensor that represents logits\n",
    "    \"\"\"\n",
    "    # TODO: Apply 1, 2, or 3 Convolution and Max Pool layers\n",
    "    #    Play around with different number of outputs, kernel size and stride\n",
    "    # Function Definition from Above:\n",
    "    x_tensor = conv2d_maxpool(x, 16, [3,3], [1,1], [2,2], [2,2])\n",
    "    x_tensor = conv2d_maxpool(x_tensor, 32, [3,3], [1,1], [2,2], [2,2])\n",
    "\n",
    "    x_tensor = tf.nn.dropout(x_tensor, keep_prob)\n",
    "\n",
    "    # TODO: Apply a Flatten Layer\n",
    "    # Function Definition from Above:\n",
    "    x_tensor = flatten(x_tensor)\n",
    "    \n",
    "\n",
    "    # TODO: Apply 1, 2, or 3 Fully Connected Layers\n",
    "    #    Play around with different number of outputs\n",
    "    # Function Definition from Above:\n",
    "    x_tensor = fully_conn(x_tensor, 128)\n",
    "    x_tensor = tf.nn.dropout(x_tensor, keep_prob)\n",
    "    \n",
    "    # TODO: Apply an Output Layer\n",
    "    #    Set this to the number of classes\n",
    "    # Function Definition from Above:\n",
    "    x_tensor = output(x_tensor, 10)\n",
    "    \n",
    "    \n",
    "    # TODO: return output\n",
    "    return x_tensor\n",
    "\n",
    "\n",
    "\"\"\"\n",
    "DON'T MODIFY ANYTHING IN THIS CELL THAT IS BELOW THIS LINE\n",
    "\"\"\"\n",
    "\n",
    "##############################\n",
    "## Build the Neural Network ##\n",
    "##############################\n",
    "\n",
    "# Remove previous weights, bias, inputs, etc..\n",
    "tf.reset_default_graph()\n",
    "\n",
    "# Inputs\n",
    "x = neural_net_image_input((32, 32, 3))\n",
    "y = neural_net_label_input(10)\n",
    "keep_prob = neural_net_keep_prob_input()\n",
    "\n",
    "# Model\n",
    "logits = conv_net(x, keep_prob)\n",
    "\n",
    "# Name logits Tensor, so that is can be loaded from disk after training\n",
    "logits = tf.identity(logits, name='logits')\n",
    "\n",
    "# Loss and Optimizer\n",
    "cost = tf.reduce_mean(tf.nn.softmax_cross_entropy_with_logits(logits=logits, labels=y))\n",
    "optimizer = tf.train.AdamOptimizer().minimize(cost)\n",
    "\n",
    "# Accuracy\n",
    "correct_pred = tf.equal(tf.argmax(logits, 1), tf.argmax(y, 1))\n",
    "accuracy = tf.reduce_mean(tf.cast(correct_pred, tf.float32), name='accuracy')\n",
    "\n",
    "tests.test_conv_net(conv_net)"
   ]
  },
  {
   "cell_type": "markdown",
   "metadata": {
    "deletable": true,
    "editable": true
   },
   "source": [
    "## Train the Neural Network\n",
    "### Single Optimization\n",
    "Implement the function `train_neural_network` to do a single optimization.  The optimization should use `optimizer` to optimize in `session` with a `feed_dict` of the following:\n",
    "* `x` for image input\n",
    "* `y` for labels\n",
    "* `keep_prob` for keep probability for dropout\n",
    "\n",
    "This function will be called for each batch, so `tf.global_variables_initializer()` has already been called.\n",
    "\n",
    "Note: Nothing needs to be returned. This function is only optimizing the neural network."
   ]
  },
  {
   "cell_type": "code",
   "execution_count": 153,
   "metadata": {
    "collapsed": false,
    "deletable": true,
    "editable": true
   },
   "outputs": [
    {
     "name": "stdout",
     "output_type": "stream",
     "text": [
      "Tests Passed\n"
     ]
    }
   ],
   "source": [
    "def train_neural_network(session, optimizer, keep_probability, feature_batch, label_batch):\n",
    "    \"\"\"\n",
    "    Optimize the session on a batch of images and labels\n",
    "    : session: Current TensorFlow session\n",
    "    : optimizer: TensorFlow optimizer function\n",
    "    : keep_probability: keep probability\n",
    "    : feature_batch: Batch of Numpy image data\n",
    "    : label_batch: Batch of Numpy label data\n",
    "    \"\"\"\n",
    "    # TODO: Implement Function\n",
    "    session.run(optimizer, feed_dict={x: feature_batch,\n",
    "                                     y: label_batch,\n",
    "                                     keep_prob: keep_probability})\n",
    "\n",
    "\n",
    "\"\"\"\n",
    "DON'T MODIFY ANYTHING IN THIS CELL THAT IS BELOW THIS LINE\n",
    "\"\"\"\n",
    "tests.test_train_nn(train_neural_network)"
   ]
  },
  {
   "cell_type": "markdown",
   "metadata": {
    "deletable": true,
    "editable": true
   },
   "source": [
    "### Show Stats\n",
    "Implement the function `print_stats` to print loss and validation accuracy.  Use the global variables `valid_features` and `valid_labels` to calculate validation accuracy.  Use a keep probability of `1.0` to calculate the loss and validation accuracy."
   ]
  },
  {
   "cell_type": "code",
   "execution_count": 154,
   "metadata": {
    "collapsed": true,
    "deletable": true,
    "editable": true
   },
   "outputs": [],
   "source": [
    "def print_stats(session, feature_batch, label_batch, cost, accuracy):\n",
    "    \"\"\"\n",
    "    Print information about loss and validation accuracy\n",
    "    : session: Current TensorFlow session\n",
    "    : feature_batch: Batch of Numpy image data\n",
    "    : label_batch: Batch of Numpy label data\n",
    "    : cost: TensorFlow cost function\n",
    "    : accuracy: TensorFlow accuracy function\n",
    "    \"\"\"\n",
    "    # TODO: Implement Function\n",
    "    loss = session.run(cost, feed_dict={x: feature_batch,\n",
    "                                       y: label_batch,\n",
    "                                       keep_prob: 1.0})\n",
    "    validation_accuracy = session.run(accuracy, feed_dict={x: valid_features,\n",
    "                                       y: valid_labels,\n",
    "                                       keep_prob: 1.0})\n",
    "    print(\"loss: \", loss)\n",
    "    print(\"validation accuracy: \", validation_accuracy)\n"
   ]
  },
  {
   "cell_type": "markdown",
   "metadata": {
    "deletable": true,
    "editable": true
   },
   "source": [
    "### Hyperparameters\n",
    "Tune the following parameters:\n",
    "* Set `epochs` to the number of iterations until the network stops learning or start overfitting\n",
    "* Set `batch_size` to the highest number that your machine has memory for.  Most people set them to common sizes of memory:\n",
    " * 64\n",
    " * 128\n",
    " * 256\n",
    " * ...\n",
    "* Set `keep_probability` to the probability of keeping a node using dropout"
   ]
  },
  {
   "cell_type": "code",
   "execution_count": 155,
   "metadata": {
    "collapsed": true,
    "deletable": true,
    "editable": true
   },
   "outputs": [],
   "source": [
    "# TODO: Tune Parameters\n",
    "epochs = 50\n",
    "batch_size = 128\n",
    "keep_probability = 0.5"
   ]
  },
  {
   "cell_type": "markdown",
   "metadata": {
    "deletable": true,
    "editable": true
   },
   "source": [
    "### Train on a Single CIFAR-10 Batch\n",
    "Instead of training the neural network on all the CIFAR-10 batches of data, let's use a single batch. This should save time while you iterate on the model to get a better accuracy.  Once the final validation accuracy is 50% or greater, run the model on all the data in the next section."
   ]
  },
  {
   "cell_type": "code",
   "execution_count": 156,
   "metadata": {
    "collapsed": false,
    "deletable": true,
    "editable": true
   },
   "outputs": [
    {
     "name": "stdout",
     "output_type": "stream",
     "text": [
      "Checking the Training on a Single Batch...\n",
      "Epoch  1, CIFAR-10 Batch 1:  loss:  2.30099\n",
      "validation accuracy:  0.1204\n",
      "Epoch  2, CIFAR-10 Batch 1:  loss:  2.22224\n",
      "validation accuracy:  0.2072\n",
      "Epoch  3, CIFAR-10 Batch 1:  loss:  2.14249\n",
      "validation accuracy:  0.3148\n",
      "Epoch  4, CIFAR-10 Batch 1:  loss:  2.06423\n",
      "validation accuracy:  0.3746\n",
      "Epoch  5, CIFAR-10 Batch 1:  loss:  1.97346\n",
      "validation accuracy:  0.4036\n",
      "Epoch  6, CIFAR-10 Batch 1:  loss:  1.87048\n",
      "validation accuracy:  0.4404\n",
      "Epoch  7, CIFAR-10 Batch 1:  loss:  1.68752\n",
      "validation accuracy:  0.4486\n",
      "Epoch  8, CIFAR-10 Batch 1:  loss:  1.59942\n",
      "validation accuracy:  0.4696\n",
      "Epoch  9, CIFAR-10 Batch 1:  loss:  1.49022\n",
      "validation accuracy:  0.4604\n",
      "Epoch 10, CIFAR-10 Batch 1:  loss:  1.4046\n",
      "validation accuracy:  0.486\n",
      "Epoch 11, CIFAR-10 Batch 1:  loss:  1.28426\n",
      "validation accuracy:  0.498\n",
      "Epoch 12, CIFAR-10 Batch 1:  loss:  1.23447\n",
      "validation accuracy:  0.5038\n",
      "Epoch 13, CIFAR-10 Batch 1:  loss:  1.15382\n",
      "validation accuracy:  0.5138\n",
      "Epoch 14, CIFAR-10 Batch 1:  loss:  1.1381\n",
      "validation accuracy:  0.5194\n",
      "Epoch 15, CIFAR-10 Batch 1:  loss:  1.05425\n",
      "validation accuracy:  0.5296\n",
      "Epoch 16, CIFAR-10 Batch 1:  loss:  0.996436\n",
      "validation accuracy:  0.5222\n",
      "Epoch 17, CIFAR-10 Batch 1:  loss:  0.938319\n",
      "validation accuracy:  0.5376\n",
      "Epoch 18, CIFAR-10 Batch 1:  loss:  0.956159\n",
      "validation accuracy:  0.5332\n",
      "Epoch 19, CIFAR-10 Batch 1:  loss:  0.883664\n",
      "validation accuracy:  0.543\n",
      "Epoch 20, CIFAR-10 Batch 1:  loss:  0.871784\n",
      "validation accuracy:  0.5418\n",
      "Epoch 21, CIFAR-10 Batch 1:  loss:  0.860168\n",
      "validation accuracy:  0.5512\n",
      "Epoch 22, CIFAR-10 Batch 1:  loss:  0.79729\n",
      "validation accuracy:  0.5388\n",
      "Epoch 23, CIFAR-10 Batch 1:  loss:  0.732763\n",
      "validation accuracy:  0.5536\n",
      "Epoch 24, CIFAR-10 Batch 1:  loss:  0.727457\n",
      "validation accuracy:  0.5412\n",
      "Epoch 25, CIFAR-10 Batch 1:  loss:  0.732141\n",
      "validation accuracy:  0.538\n",
      "Epoch 26, CIFAR-10 Batch 1:  loss:  0.683058\n",
      "validation accuracy:  0.5574\n",
      "Epoch 27, CIFAR-10 Batch 1:  loss:  0.657273\n",
      "validation accuracy:  0.5472\n",
      "Epoch 28, CIFAR-10 Batch 1:  loss:  0.651426\n",
      "validation accuracy:  0.5574\n",
      "Epoch 29, CIFAR-10 Batch 1:  loss:  0.634617\n",
      "validation accuracy:  0.5594\n",
      "Epoch 30, CIFAR-10 Batch 1:  loss:  0.631022\n",
      "validation accuracy:  0.5596\n",
      "Epoch 31, CIFAR-10 Batch 1:  loss:  0.624383\n",
      "validation accuracy:  0.5528\n",
      "Epoch 32, CIFAR-10 Batch 1:  loss:  0.588493\n",
      "validation accuracy:  0.5572\n",
      "Epoch 33, CIFAR-10 Batch 1:  loss:  0.552866\n",
      "validation accuracy:  0.5684\n",
      "Epoch 34, CIFAR-10 Batch 1:  loss:  0.537014\n",
      "validation accuracy:  0.5636\n",
      "Epoch 35, CIFAR-10 Batch 1:  loss:  0.535912\n",
      "validation accuracy:  0.5554\n",
      "Epoch 36, CIFAR-10 Batch 1:  loss:  0.508563\n",
      "validation accuracy:  0.5768\n",
      "Epoch 37, CIFAR-10 Batch 1:  loss:  0.486561\n",
      "validation accuracy:  0.5712\n",
      "Epoch 38, CIFAR-10 Batch 1:  loss:  0.449626\n",
      "validation accuracy:  0.58\n",
      "Epoch 39, CIFAR-10 Batch 1:  loss:  0.411357\n",
      "validation accuracy:  0.576\n",
      "Epoch 40, CIFAR-10 Batch 1:  loss:  0.403473\n",
      "validation accuracy:  0.5782\n",
      "Epoch 41, CIFAR-10 Batch 1:  loss:  0.397201\n",
      "validation accuracy:  0.5716\n",
      "Epoch 42, CIFAR-10 Batch 1:  loss:  0.40258\n",
      "validation accuracy:  0.572\n",
      "Epoch 43, CIFAR-10 Batch 1:  loss:  0.368525\n",
      "validation accuracy:  0.5756\n",
      "Epoch 44, CIFAR-10 Batch 1:  loss:  0.359258\n",
      "validation accuracy:  0.5796\n",
      "Epoch 45, CIFAR-10 Batch 1:  loss:  0.358407\n",
      "validation accuracy:  0.5782\n",
      "Epoch 46, CIFAR-10 Batch 1:  loss:  0.325\n",
      "validation accuracy:  0.5816\n",
      "Epoch 47, CIFAR-10 Batch 1:  loss:  0.323088\n",
      "validation accuracy:  0.572\n",
      "Epoch 48, CIFAR-10 Batch 1:  loss:  0.298179\n",
      "validation accuracy:  0.577\n",
      "Epoch 49, CIFAR-10 Batch 1:  loss:  0.278619\n",
      "validation accuracy:  0.5748\n",
      "Epoch 50, CIFAR-10 Batch 1:  loss:  0.290655\n",
      "validation accuracy:  0.5746\n"
     ]
    }
   ],
   "source": [
    "\"\"\"\n",
    "DON'T MODIFY ANYTHING IN THIS CELL\n",
    "\"\"\"\n",
    "print('Checking the Training on a Single Batch...')\n",
    "with tf.Session() as sess:\n",
    "    # Initializing the variables\n",
    "    sess.run(tf.global_variables_initializer())\n",
    "    \n",
    "    # Training cycle\n",
    "    for epoch in range(epochs):\n",
    "        batch_i = 1\n",
    "        for batch_features, batch_labels in helper.load_preprocess_training_batch(batch_i, batch_size):\n",
    "            train_neural_network(sess, optimizer, keep_probability, batch_features, batch_labels)\n",
    "        print('Epoch {:>2}, CIFAR-10 Batch {}:  '.format(epoch + 1, batch_i), end='')\n",
    "        print_stats(sess, batch_features, batch_labels, cost, accuracy)"
   ]
  },
  {
   "cell_type": "markdown",
   "metadata": {
    "deletable": true,
    "editable": true
   },
   "source": [
    "### Fully Train the Model\n",
    "Now that you got a good accuracy with a single CIFAR-10 batch, try it with all five batches."
   ]
  },
  {
   "cell_type": "code",
   "execution_count": 157,
   "metadata": {
    "collapsed": false,
    "deletable": true,
    "editable": true
   },
   "outputs": [
    {
     "name": "stdout",
     "output_type": "stream",
     "text": [
      "Training...\n",
      "Epoch  1, CIFAR-10 Batch 1:  loss:  2.26053\n",
      "validation accuracy:  0.1616\n",
      "Epoch  1, CIFAR-10 Batch 2:  loss:  2.04073\n",
      "validation accuracy:  0.243\n",
      "Epoch  1, CIFAR-10 Batch 3:  loss:  1.87878\n",
      "validation accuracy:  0.2792\n",
      "Epoch  1, CIFAR-10 Batch 4:  loss:  1.85183\n",
      "validation accuracy:  0.3504\n",
      "Epoch  1, CIFAR-10 Batch 5:  loss:  1.72855\n",
      "validation accuracy:  0.3796\n",
      "Epoch  2, CIFAR-10 Batch 1:  loss:  1.91373\n",
      "validation accuracy:  0.38\n",
      "Epoch  2, CIFAR-10 Batch 2:  loss:  1.71206\n",
      "validation accuracy:  0.4056\n",
      "Epoch  2, CIFAR-10 Batch 3:  loss:  1.54565\n",
      "validation accuracy:  0.422\n",
      "Epoch  2, CIFAR-10 Batch 4:  loss:  1.69128\n",
      "validation accuracy:  0.4338\n",
      "Epoch  2, CIFAR-10 Batch 5:  loss:  1.54202\n",
      "validation accuracy:  0.4314\n",
      "Epoch  3, CIFAR-10 Batch 1:  loss:  1.61522\n",
      "validation accuracy:  0.4684\n",
      "Epoch  3, CIFAR-10 Batch 2:  loss:  1.55565\n",
      "validation accuracy:  0.4604\n",
      "Epoch  3, CIFAR-10 Batch 3:  loss:  1.36166\n",
      "validation accuracy:  0.466\n",
      "Epoch  3, CIFAR-10 Batch 4:  loss:  1.49019\n",
      "validation accuracy:  0.484\n",
      "Epoch  3, CIFAR-10 Batch 5:  loss:  1.47091\n",
      "validation accuracy:  0.474\n",
      "Epoch  4, CIFAR-10 Batch 1:  loss:  1.53554\n",
      "validation accuracy:  0.4942\n",
      "Epoch  4, CIFAR-10 Batch 2:  loss:  1.40522\n",
      "validation accuracy:  0.5026\n",
      "Epoch  4, CIFAR-10 Batch 3:  loss:  1.20567\n",
      "validation accuracy:  0.4996\n",
      "Epoch  4, CIFAR-10 Batch 4:  loss:  1.36807\n",
      "validation accuracy:  0.5106\n",
      "Epoch  4, CIFAR-10 Batch 5:  loss:  1.37694\n",
      "validation accuracy:  0.5072\n",
      "Epoch  5, CIFAR-10 Batch 1:  loss:  1.4207\n",
      "validation accuracy:  0.5274\n",
      "Epoch  5, CIFAR-10 Batch 2:  loss:  1.32853\n",
      "validation accuracy:  0.5282\n",
      "Epoch  5, CIFAR-10 Batch 3:  loss:  1.17812\n",
      "validation accuracy:  0.519\n",
      "Epoch  5, CIFAR-10 Batch 4:  loss:  1.25373\n",
      "validation accuracy:  0.5388\n",
      "Epoch  5, CIFAR-10 Batch 5:  loss:  1.32834\n",
      "validation accuracy:  0.5312\n",
      "Epoch  6, CIFAR-10 Batch 1:  loss:  1.3753\n",
      "validation accuracy:  0.5464\n",
      "Epoch  6, CIFAR-10 Batch 2:  loss:  1.24801\n",
      "validation accuracy:  0.542\n",
      "Epoch  6, CIFAR-10 Batch 3:  loss:  1.0409\n",
      "validation accuracy:  0.5452\n",
      "Epoch  6, CIFAR-10 Batch 4:  loss:  1.16125\n",
      "validation accuracy:  0.554\n",
      "Epoch  6, CIFAR-10 Batch 5:  loss:  1.25611\n",
      "validation accuracy:  0.56\n",
      "Epoch  7, CIFAR-10 Batch 1:  loss:  1.28729\n",
      "validation accuracy:  0.558\n",
      "Epoch  7, CIFAR-10 Batch 2:  loss:  1.20868\n",
      "validation accuracy:  0.5476\n",
      "Epoch  7, CIFAR-10 Batch 3:  loss:  1.01019\n",
      "validation accuracy:  0.5582\n",
      "Epoch  7, CIFAR-10 Batch 4:  loss:  1.10917\n",
      "validation accuracy:  0.5656\n",
      "Epoch  7, CIFAR-10 Batch 5:  loss:  1.1965\n",
      "validation accuracy:  0.5704\n",
      "Epoch  8, CIFAR-10 Batch 1:  loss:  1.1887\n",
      "validation accuracy:  0.5706\n",
      "Epoch  8, CIFAR-10 Batch 2:  loss:  1.14073\n",
      "validation accuracy:  0.568\n",
      "Epoch  8, CIFAR-10 Batch 3:  loss:  0.944712\n",
      "validation accuracy:  0.572\n",
      "Epoch  8, CIFAR-10 Batch 4:  loss:  1.04408\n",
      "validation accuracy:  0.5786\n",
      "Epoch  8, CIFAR-10 Batch 5:  loss:  1.11963\n",
      "validation accuracy:  0.585\n",
      "Epoch  9, CIFAR-10 Batch 1:  loss:  1.19033\n",
      "validation accuracy:  0.5828\n",
      "Epoch  9, CIFAR-10 Batch 2:  loss:  1.06831\n",
      "validation accuracy:  0.588\n",
      "Epoch  9, CIFAR-10 Batch 3:  loss:  0.914481\n",
      "validation accuracy:  0.587\n",
      "Epoch  9, CIFAR-10 Batch 4:  loss:  1.01928\n",
      "validation accuracy:  0.5958\n",
      "Epoch  9, CIFAR-10 Batch 5:  loss:  1.08802\n",
      "validation accuracy:  0.5956\n",
      "Epoch 10, CIFAR-10 Batch 1:  loss:  1.09338\n",
      "validation accuracy:  0.5898\n",
      "Epoch 10, CIFAR-10 Batch 2:  loss:  1.02012\n",
      "validation accuracy:  0.599\n",
      "Epoch 10, CIFAR-10 Batch 3:  loss:  0.884635\n",
      "validation accuracy:  0.6026\n",
      "Epoch 10, CIFAR-10 Batch 4:  loss:  1.00832\n",
      "validation accuracy:  0.5948\n",
      "Epoch 10, CIFAR-10 Batch 5:  loss:  1.04614\n",
      "validation accuracy:  0.599\n",
      "Epoch 11, CIFAR-10 Batch 1:  loss:  1.05184\n",
      "validation accuracy:  0.6048\n",
      "Epoch 11, CIFAR-10 Batch 2:  loss:  0.979703\n",
      "validation accuracy:  0.6162\n",
      "Epoch 11, CIFAR-10 Batch 3:  loss:  0.857376\n",
      "validation accuracy:  0.6092\n",
      "Epoch 11, CIFAR-10 Batch 4:  loss:  0.933822\n",
      "validation accuracy:  0.612\n",
      "Epoch 11, CIFAR-10 Batch 5:  loss:  0.979551\n",
      "validation accuracy:  0.6076\n",
      "Epoch 12, CIFAR-10 Batch 1:  loss:  0.984544\n",
      "validation accuracy:  0.6188\n",
      "Epoch 12, CIFAR-10 Batch 2:  loss:  0.923499\n",
      "validation accuracy:  0.6218\n",
      "Epoch 12, CIFAR-10 Batch 3:  loss:  0.812798\n",
      "validation accuracy:  0.6164\n",
      "Epoch 12, CIFAR-10 Batch 4:  loss:  0.892478\n",
      "validation accuracy:  0.6192\n",
      "Epoch 12, CIFAR-10 Batch 5:  loss:  0.920984\n",
      "validation accuracy:  0.6198\n",
      "Epoch 13, CIFAR-10 Batch 1:  loss:  0.98371\n",
      "validation accuracy:  0.616\n",
      "Epoch 13, CIFAR-10 Batch 2:  loss:  0.865752\n",
      "validation accuracy:  0.6282\n",
      "Epoch 13, CIFAR-10 Batch 3:  loss:  0.779625\n",
      "validation accuracy:  0.6192\n",
      "Epoch 13, CIFAR-10 Batch 4:  loss:  0.863039\n",
      "validation accuracy:  0.6172\n",
      "Epoch 13, CIFAR-10 Batch 5:  loss:  0.888901\n",
      "validation accuracy:  0.6306\n",
      "Epoch 14, CIFAR-10 Batch 1:  loss:  0.958294\n",
      "validation accuracy:  0.629\n",
      "Epoch 14, CIFAR-10 Batch 2:  loss:  0.824792\n",
      "validation accuracy:  0.6344\n",
      "Epoch 14, CIFAR-10 Batch 3:  loss:  0.768471\n",
      "validation accuracy:  0.6216\n",
      "Epoch 14, CIFAR-10 Batch 4:  loss:  0.771547\n",
      "validation accuracy:  0.6346\n",
      "Epoch 14, CIFAR-10 Batch 5:  loss:  0.859498\n",
      "validation accuracy:  0.6416\n",
      "Epoch 15, CIFAR-10 Batch 1:  loss:  0.949534\n",
      "validation accuracy:  0.6282\n",
      "Epoch 15, CIFAR-10 Batch 2:  loss:  0.749462\n",
      "validation accuracy:  0.6412\n",
      "Epoch 15, CIFAR-10 Batch 3:  loss:  0.749936\n",
      "validation accuracy:  0.6286\n",
      "Epoch 15, CIFAR-10 Batch 4:  loss:  0.791412\n",
      "validation accuracy:  0.6408\n",
      "Epoch 15, CIFAR-10 Batch 5:  loss:  0.778655\n",
      "validation accuracy:  0.6418\n",
      "Epoch 16, CIFAR-10 Batch 1:  loss:  0.885808\n",
      "validation accuracy:  0.6462\n",
      "Epoch 16, CIFAR-10 Batch 2:  loss:  0.759314\n",
      "validation accuracy:  0.6442\n",
      "Epoch 16, CIFAR-10 Batch 3:  loss:  0.711399\n",
      "validation accuracy:  0.6388\n",
      "Epoch 16, CIFAR-10 Batch 4:  loss:  0.758862\n",
      "validation accuracy:  0.6488\n",
      "Epoch 16, CIFAR-10 Batch 5:  loss:  0.77281\n",
      "validation accuracy:  0.6434\n",
      "Epoch 17, CIFAR-10 Batch 1:  loss:  0.855306\n",
      "validation accuracy:  0.64\n",
      "Epoch 17, CIFAR-10 Batch 2:  loss:  0.766152\n",
      "validation accuracy:  0.6428\n",
      "Epoch 17, CIFAR-10 Batch 3:  loss:  0.723376\n",
      "validation accuracy:  0.642\n",
      "Epoch 17, CIFAR-10 Batch 4:  loss:  0.712429\n",
      "validation accuracy:  0.653\n",
      "Epoch 17, CIFAR-10 Batch 5:  loss:  0.742787\n",
      "validation accuracy:  0.6552\n",
      "Epoch 18, CIFAR-10 Batch 1:  loss:  0.801281\n",
      "validation accuracy:  0.6508\n",
      "Epoch 18, CIFAR-10 Batch 2:  loss:  0.70429\n",
      "validation accuracy:  0.654\n",
      "Epoch 18, CIFAR-10 Batch 3:  loss:  0.694628\n",
      "validation accuracy:  0.6508\n",
      "Epoch 18, CIFAR-10 Batch 4:  loss:  0.680706\n",
      "validation accuracy:  0.6596\n",
      "Epoch 18, CIFAR-10 Batch 5:  loss:  0.762423\n",
      "validation accuracy:  0.6568\n",
      "Epoch 19, CIFAR-10 Batch 1:  loss:  0.819028\n",
      "validation accuracy:  0.6572\n",
      "Epoch 19, CIFAR-10 Batch 2:  loss:  0.695367\n",
      "validation accuracy:  0.655\n",
      "Epoch 19, CIFAR-10 Batch 3:  loss:  0.623266\n",
      "validation accuracy:  0.6502\n",
      "Epoch 19, CIFAR-10 Batch 4:  loss:  0.721849\n",
      "validation accuracy:  0.66\n",
      "Epoch 19, CIFAR-10 Batch 5:  loss:  0.739219\n",
      "validation accuracy:  0.6594\n",
      "Epoch 20, CIFAR-10 Batch 1:  loss:  0.783905\n",
      "validation accuracy:  0.6574\n",
      "Epoch 20, CIFAR-10 Batch 2:  loss:  0.695413\n",
      "validation accuracy:  0.6534\n",
      "Epoch 20, CIFAR-10 Batch 3:  loss:  0.580432\n",
      "validation accuracy:  0.6498\n",
      "Epoch 20, CIFAR-10 Batch 4:  loss:  0.665111\n",
      "validation accuracy:  0.6612\n",
      "Epoch 20, CIFAR-10 Batch 5:  loss:  0.711992\n",
      "validation accuracy:  0.654\n",
      "Epoch 21, CIFAR-10 Batch 1:  loss:  0.722148\n",
      "validation accuracy:  0.6692\n",
      "Epoch 21, CIFAR-10 Batch 2:  loss:  0.727494\n",
      "validation accuracy:  0.6644\n",
      "Epoch 21, CIFAR-10 Batch 3:  loss:  0.571935\n",
      "validation accuracy:  0.6634\n",
      "Epoch 21, CIFAR-10 Batch 4:  loss:  0.656038\n",
      "validation accuracy:  0.6666\n",
      "Epoch 21, CIFAR-10 Batch 5:  loss:  0.708916\n",
      "validation accuracy:  0.6538\n",
      "Epoch 22, CIFAR-10 Batch 1:  loss:  0.688826\n",
      "validation accuracy:  0.6668\n",
      "Epoch 22, CIFAR-10 Batch 2:  loss:  0.680025\n",
      "validation accuracy:  0.6676\n",
      "Epoch 22, CIFAR-10 Batch 3:  loss:  0.554749\n",
      "validation accuracy:  0.6692\n",
      "Epoch 22, CIFAR-10 Batch 4:  loss:  0.65172\n",
      "validation accuracy:  0.669\n",
      "Epoch 22, CIFAR-10 Batch 5:  loss:  0.664856\n",
      "validation accuracy:  0.6674\n",
      "Epoch 23, CIFAR-10 Batch 1:  loss:  0.696317\n",
      "validation accuracy:  0.6682\n",
      "Epoch 23, CIFAR-10 Batch 2:  loss:  0.648931\n",
      "validation accuracy:  0.6646\n",
      "Epoch 23, CIFAR-10 Batch 3:  loss:  0.547821\n",
      "validation accuracy:  0.664\n",
      "Epoch 23, CIFAR-10 Batch 4:  loss:  0.62372\n",
      "validation accuracy:  0.6792\n",
      "Epoch 23, CIFAR-10 Batch 5:  loss:  0.663787\n",
      "validation accuracy:  0.6542\n",
      "Epoch 24, CIFAR-10 Batch 1:  loss:  0.67563\n",
      "validation accuracy:  0.6736\n",
      "Epoch 24, CIFAR-10 Batch 2:  loss:  0.656805\n",
      "validation accuracy:  0.6662\n",
      "Epoch 24, CIFAR-10 Batch 3:  loss:  0.536749\n",
      "validation accuracy:  0.6626\n",
      "Epoch 24, CIFAR-10 Batch 4:  loss:  0.625148\n",
      "validation accuracy:  0.6686\n",
      "Epoch 24, CIFAR-10 Batch 5:  loss:  0.664544\n",
      "validation accuracy:  0.6702\n",
      "Epoch 25, CIFAR-10 Batch 1:  loss:  0.668961\n",
      "validation accuracy:  0.67\n",
      "Epoch 25, CIFAR-10 Batch 2:  loss:  0.600968\n",
      "validation accuracy:  0.6704\n",
      "Epoch 25, CIFAR-10 Batch 3:  loss:  0.523236\n",
      "validation accuracy:  0.6694\n",
      "Epoch 25, CIFAR-10 Batch 4:  loss:  0.616984\n",
      "validation accuracy:  0.6808\n",
      "Epoch 25, CIFAR-10 Batch 5:  loss:  0.620333\n",
      "validation accuracy:  0.6732\n",
      "Epoch 26, CIFAR-10 Batch 1:  loss:  0.648906\n",
      "validation accuracy:  0.6754\n",
      "Epoch 26, CIFAR-10 Batch 2:  loss:  0.579393\n",
      "validation accuracy:  0.6782\n",
      "Epoch 26, CIFAR-10 Batch 3:  loss:  0.490848\n",
      "validation accuracy:  0.6784\n",
      "Epoch 26, CIFAR-10 Batch 4:  loss:  0.59787\n",
      "validation accuracy:  0.6804\n",
      "Epoch 26, CIFAR-10 Batch 5:  loss:  0.596332\n",
      "validation accuracy:  0.6796\n",
      "Epoch 27, CIFAR-10 Batch 1:  loss:  0.673861\n",
      "validation accuracy:  0.6792\n",
      "Epoch 27, CIFAR-10 Batch 2:  loss:  0.60592\n",
      "validation accuracy:  0.6814\n",
      "Epoch 27, CIFAR-10 Batch 3:  loss:  0.481616\n",
      "validation accuracy:  0.6762\n",
      "Epoch 27, CIFAR-10 Batch 4:  loss:  0.591936\n",
      "validation accuracy:  0.678\n",
      "Epoch 27, CIFAR-10 Batch 5:  loss:  0.554122\n",
      "validation accuracy:  0.6816\n",
      "Epoch 28, CIFAR-10 Batch 1:  loss:  0.623192\n",
      "validation accuracy:  0.6834\n",
      "Epoch 28, CIFAR-10 Batch 2:  loss:  0.558452\n",
      "validation accuracy:  0.678\n",
      "Epoch 28, CIFAR-10 Batch 3:  loss:  0.480641\n",
      "validation accuracy:  0.6762\n",
      "Epoch 28, CIFAR-10 Batch 4:  loss:  0.546774\n",
      "validation accuracy:  0.683\n",
      "Epoch 28, CIFAR-10 Batch 5:  loss:  0.567195\n",
      "validation accuracy:  0.6804\n",
      "Epoch 29, CIFAR-10 Batch 1:  loss:  0.575322\n",
      "validation accuracy:  0.683\n",
      "Epoch 29, CIFAR-10 Batch 2:  loss:  0.523245\n",
      "validation accuracy:  0.686\n",
      "Epoch 29, CIFAR-10 Batch 3:  loss:  0.444746\n",
      "validation accuracy:  0.6846\n",
      "Epoch 29, CIFAR-10 Batch 4:  loss:  0.572452\n",
      "validation accuracy:  0.6924\n",
      "Epoch 29, CIFAR-10 Batch 5:  loss:  0.563493\n",
      "validation accuracy:  0.6864\n",
      "Epoch 30, CIFAR-10 Batch 1:  loss:  0.652253\n",
      "validation accuracy:  0.6802\n",
      "Epoch 30, CIFAR-10 Batch 2:  loss:  0.533104\n",
      "validation accuracy:  0.6928\n",
      "Epoch 30, CIFAR-10 Batch 3:  loss:  0.455408\n",
      "validation accuracy:  0.6842\n",
      "Epoch 30, CIFAR-10 Batch 4:  loss:  0.589183\n",
      "validation accuracy:  0.6848\n",
      "Epoch 30, CIFAR-10 Batch 5:  loss:  0.563445\n",
      "validation accuracy:  0.6832\n",
      "Epoch 31, CIFAR-10 Batch 1:  loss:  0.589117\n",
      "validation accuracy:  0.6822\n",
      "Epoch 31, CIFAR-10 Batch 2:  loss:  0.523494\n",
      "validation accuracy:  0.6878\n",
      "Epoch 31, CIFAR-10 Batch 3:  loss:  0.465252\n",
      "validation accuracy:  0.6786\n",
      "Epoch 31, CIFAR-10 Batch 4:  loss:  0.561341\n",
      "validation accuracy:  0.6878\n",
      "Epoch 31, CIFAR-10 Batch 5:  loss:  0.50168\n",
      "validation accuracy:  0.6836\n",
      "Epoch 32, CIFAR-10 Batch 1:  loss:  0.626967\n",
      "validation accuracy:  0.6828\n",
      "Epoch 32, CIFAR-10 Batch 2:  loss:  0.56842\n",
      "validation accuracy:  0.6898\n",
      "Epoch 32, CIFAR-10 Batch 3:  loss:  0.421932\n",
      "validation accuracy:  0.6834\n",
      "Epoch 32, CIFAR-10 Batch 4:  loss:  0.561997\n",
      "validation accuracy:  0.6902\n",
      "Epoch 32, CIFAR-10 Batch 5:  loss:  0.504889\n",
      "validation accuracy:  0.688\n",
      "Epoch 33, CIFAR-10 Batch 1:  loss:  0.553694\n",
      "validation accuracy:  0.69\n",
      "Epoch 33, CIFAR-10 Batch 2:  loss:  0.546023\n",
      "validation accuracy:  0.679\n",
      "Epoch 33, CIFAR-10 Batch 3:  loss:  0.421541\n",
      "validation accuracy:  0.6828\n",
      "Epoch 33, CIFAR-10 Batch 4:  loss:  0.51417\n",
      "validation accuracy:  0.6954\n",
      "Epoch 33, CIFAR-10 Batch 5:  loss:  0.501096\n",
      "validation accuracy:  0.6874\n",
      "Epoch 34, CIFAR-10 Batch 1:  loss:  0.55155\n",
      "validation accuracy:  0.684\n",
      "Epoch 34, CIFAR-10 Batch 2:  loss:  0.50211\n",
      "validation accuracy:  0.699\n",
      "Epoch 34, CIFAR-10 Batch 3:  loss:  0.405445\n",
      "validation accuracy:  0.692\n",
      "Epoch 34, CIFAR-10 Batch 4:  loss:  0.477334\n",
      "validation accuracy:  0.6946\n",
      "Epoch 34, CIFAR-10 Batch 5:  loss:  0.509402\n",
      "validation accuracy:  0.6902\n",
      "Epoch 35, CIFAR-10 Batch 1:  loss:  0.546176\n",
      "validation accuracy:  0.688\n",
      "Epoch 35, CIFAR-10 Batch 2:  loss:  0.493716\n",
      "validation accuracy:  0.6906\n",
      "Epoch 35, CIFAR-10 Batch 3:  loss:  0.39873\n",
      "validation accuracy:  0.6938\n",
      "Epoch 35, CIFAR-10 Batch 4:  loss:  0.509851\n",
      "validation accuracy:  0.6962\n",
      "Epoch 35, CIFAR-10 Batch 5:  loss:  0.475953\n",
      "validation accuracy:  0.6808\n",
      "Epoch 36, CIFAR-10 Batch 1:  loss:  0.527616\n",
      "validation accuracy:  0.6908\n",
      "Epoch 36, CIFAR-10 Batch 2:  loss:  0.487846\n",
      "validation accuracy:  0.6912\n",
      "Epoch 36, CIFAR-10 Batch 3:  loss:  0.380679\n",
      "validation accuracy:  0.6956\n",
      "Epoch 36, CIFAR-10 Batch 4:  loss:  0.482237\n",
      "validation accuracy:  0.694\n",
      "Epoch 36, CIFAR-10 Batch 5:  loss:  0.511832\n",
      "validation accuracy:  0.6782\n",
      "Epoch 37, CIFAR-10 Batch 1:  loss:  0.526293\n",
      "validation accuracy:  0.6936\n",
      "Epoch 37, CIFAR-10 Batch 2:  loss:  0.483177\n",
      "validation accuracy:  0.696\n",
      "Epoch 37, CIFAR-10 Batch 3:  loss:  0.42073\n",
      "validation accuracy:  0.6882\n",
      "Epoch 37, CIFAR-10 Batch 4:  loss:  0.461324\n",
      "validation accuracy:  0.7014\n",
      "Epoch 37, CIFAR-10 Batch 5:  loss:  0.461448\n",
      "validation accuracy:  0.6922\n",
      "Epoch 38, CIFAR-10 Batch 1:  loss:  0.503844\n",
      "validation accuracy:  0.6942\n",
      "Epoch 38, CIFAR-10 Batch 2:  loss:  0.474129\n",
      "validation accuracy:  0.6962\n",
      "Epoch 38, CIFAR-10 Batch 3:  loss:  0.391471\n",
      "validation accuracy:  0.6994\n",
      "Epoch 38, CIFAR-10 Batch 4:  loss:  0.433155\n",
      "validation accuracy:  0.7024\n",
      "Epoch 38, CIFAR-10 Batch 5:  loss:  0.465029\n",
      "validation accuracy:  0.6952\n",
      "Epoch 39, CIFAR-10 Batch 1:  loss:  0.505393\n",
      "validation accuracy:  0.7008\n",
      "Epoch 39, CIFAR-10 Batch 2:  loss:  0.471447\n",
      "validation accuracy:  0.6948\n",
      "Epoch 39, CIFAR-10 Batch 3:  loss:  0.372419\n",
      "validation accuracy:  0.6996\n",
      "Epoch 39, CIFAR-10 Batch 4:  loss:  0.462899\n",
      "validation accuracy:  0.6946\n",
      "Epoch 39, CIFAR-10 Batch 5:  loss:  0.435159\n",
      "validation accuracy:  0.69\n",
      "Epoch 40, CIFAR-10 Batch 1:  loss:  0.506442\n",
      "validation accuracy:  0.6964\n",
      "Epoch 40, CIFAR-10 Batch 2:  loss:  0.50097\n",
      "validation accuracy:  0.6998\n",
      "Epoch 40, CIFAR-10 Batch 3:  loss:  0.392566\n",
      "validation accuracy:  0.6954\n",
      "Epoch 40, CIFAR-10 Batch 4:  loss:  0.464646\n",
      "validation accuracy:  0.7078\n",
      "Epoch 40, CIFAR-10 Batch 5:  loss:  0.42443\n",
      "validation accuracy:  0.6988\n",
      "Epoch 41, CIFAR-10 Batch 1:  loss:  0.494753\n",
      "validation accuracy:  0.7008\n",
      "Epoch 41, CIFAR-10 Batch 2:  loss:  0.466927\n",
      "validation accuracy:  0.7052\n",
      "Epoch 41, CIFAR-10 Batch 3:  loss:  0.397233\n",
      "validation accuracy:  0.6948\n",
      "Epoch 41, CIFAR-10 Batch 4:  loss:  0.466777\n",
      "validation accuracy:  0.7028\n",
      "Epoch 41, CIFAR-10 Batch 5:  loss:  0.441056\n",
      "validation accuracy:  0.7014\n",
      "Epoch 42, CIFAR-10 Batch 1:  loss:  0.467639\n",
      "validation accuracy:  0.7024\n",
      "Epoch 42, CIFAR-10 Batch 2:  loss:  0.44265\n",
      "validation accuracy:  0.6998\n",
      "Epoch 42, CIFAR-10 Batch 3:  loss:  0.385901\n",
      "validation accuracy:  0.699\n",
      "Epoch 42, CIFAR-10 Batch 4:  loss:  0.482431\n",
      "validation accuracy:  0.7058\n",
      "Epoch 42, CIFAR-10 Batch 5:  loss:  0.445474\n",
      "validation accuracy:  0.6964\n",
      "Epoch 43, CIFAR-10 Batch 1:  loss:  0.488015\n",
      "validation accuracy:  0.699\n",
      "Epoch 43, CIFAR-10 Batch 2:  loss:  0.423924\n",
      "validation accuracy:  0.6964\n",
      "Epoch 43, CIFAR-10 Batch 3:  loss:  0.365542\n",
      "validation accuracy:  0.6868\n",
      "Epoch 43, CIFAR-10 Batch 4:  loss:  0.438262\n",
      "validation accuracy:  0.705\n",
      "Epoch 43, CIFAR-10 Batch 5:  loss:  0.423631\n",
      "validation accuracy:  0.699\n",
      "Epoch 44, CIFAR-10 Batch 1:  loss:  0.500859\n",
      "validation accuracy:  0.702\n",
      "Epoch 44, CIFAR-10 Batch 2:  loss:  0.423485\n",
      "validation accuracy:  0.7058\n",
      "Epoch 44, CIFAR-10 Batch 3:  loss:  0.374606\n",
      "validation accuracy:  0.6946\n",
      "Epoch 44, CIFAR-10 Batch 4:  loss:  0.441181\n",
      "validation accuracy:  0.699\n",
      "Epoch 44, CIFAR-10 Batch 5:  loss:  0.446716\n",
      "validation accuracy:  0.698\n",
      "Epoch 45, CIFAR-10 Batch 1:  loss:  0.436658\n",
      "validation accuracy:  0.7\n",
      "Epoch 45, CIFAR-10 Batch 2:  loss:  0.410431\n",
      "validation accuracy:  0.7056\n",
      "Epoch 45, CIFAR-10 Batch 3:  loss:  0.358701\n",
      "validation accuracy:  0.6942\n",
      "Epoch 45, CIFAR-10 Batch 4:  loss:  0.390877\n",
      "validation accuracy:  0.7068\n",
      "Epoch 45, CIFAR-10 Batch 5:  loss:  0.434159\n",
      "validation accuracy:  0.701\n",
      "Epoch 46, CIFAR-10 Batch 1:  loss:  0.445747\n",
      "validation accuracy:  0.7054\n",
      "Epoch 46, CIFAR-10 Batch 2:  loss:  0.45274\n",
      "validation accuracy:  0.6996\n",
      "Epoch 46, CIFAR-10 Batch 3:  loss:  0.352425\n",
      "validation accuracy:  0.7026\n",
      "Epoch 46, CIFAR-10 Batch 4:  loss:  0.404801\n",
      "validation accuracy:  0.706\n",
      "Epoch 46, CIFAR-10 Batch 5:  loss:  0.40241\n",
      "validation accuracy:  0.7044\n",
      "Epoch 47, CIFAR-10 Batch 1:  loss:  0.425245\n",
      "validation accuracy:  0.6996\n",
      "Epoch 47, CIFAR-10 Batch 2:  loss:  0.437502\n",
      "validation accuracy:  0.7084\n",
      "Epoch 47, CIFAR-10 Batch 3:  loss:  0.356091\n",
      "validation accuracy:  0.7004\n",
      "Epoch 47, CIFAR-10 Batch 4:  loss:  0.388124\n",
      "validation accuracy:  0.7088\n",
      "Epoch 47, CIFAR-10 Batch 5:  loss:  0.409579\n",
      "validation accuracy:  0.7038\n",
      "Epoch 48, CIFAR-10 Batch 1:  loss:  0.433188\n",
      "validation accuracy:  0.707\n",
      "Epoch 48, CIFAR-10 Batch 2:  loss:  0.425996\n",
      "validation accuracy:  0.706\n",
      "Epoch 48, CIFAR-10 Batch 3:  loss:  0.349966\n",
      "validation accuracy:  0.7044\n",
      "Epoch 48, CIFAR-10 Batch 4:  loss:  0.391775\n",
      "validation accuracy:  0.7082\n",
      "Epoch 48, CIFAR-10 Batch 5:  loss:  0.384819\n",
      "validation accuracy:  0.706\n",
      "Epoch 49, CIFAR-10 Batch 1:  loss:  0.419707\n",
      "validation accuracy:  0.709\n",
      "Epoch 49, CIFAR-10 Batch 2:  loss:  0.403822\n",
      "validation accuracy:  0.7118\n",
      "Epoch 49, CIFAR-10 Batch 3:  loss:  0.36599\n",
      "validation accuracy:  0.6954\n",
      "Epoch 49, CIFAR-10 Batch 4:  loss:  0.380702\n",
      "validation accuracy:  0.7112\n",
      "Epoch 49, CIFAR-10 Batch 5:  loss:  0.404368\n",
      "validation accuracy:  0.7014\n",
      "Epoch 50, CIFAR-10 Batch 1:  loss:  0.460035\n",
      "validation accuracy:  0.7172\n",
      "Epoch 50, CIFAR-10 Batch 2:  loss:  0.437557\n",
      "validation accuracy:  0.6968\n",
      "Epoch 50, CIFAR-10 Batch 3:  loss:  0.331902\n",
      "validation accuracy:  0.7168\n",
      "Epoch 50, CIFAR-10 Batch 4:  loss:  0.377585\n",
      "validation accuracy:  0.7072\n",
      "Epoch 50, CIFAR-10 Batch 5:  loss:  0.383771\n",
      "validation accuracy:  0.7096\n"
     ]
    }
   ],
   "source": [
    "\"\"\"\n",
    "DON'T MODIFY ANYTHING IN THIS CELL\n",
    "\"\"\"\n",
    "save_model_path = './image_classification'\n",
    "\n",
    "print('Training...')\n",
    "with tf.Session() as sess:\n",
    "    # Initializing the variables\n",
    "    sess.run(tf.global_variables_initializer())\n",
    "    \n",
    "    # Training cycle\n",
    "    for epoch in range(epochs):\n",
    "        # Loop over all batches\n",
    "        n_batches = 5\n",
    "        for batch_i in range(1, n_batches + 1):\n",
    "            for batch_features, batch_labels in helper.load_preprocess_training_batch(batch_i, batch_size):\n",
    "                train_neural_network(sess, optimizer, keep_probability, batch_features, batch_labels)\n",
    "            print('Epoch {:>2}, CIFAR-10 Batch {}:  '.format(epoch + 1, batch_i), end='')\n",
    "            print_stats(sess, batch_features, batch_labels, cost, accuracy)\n",
    "            \n",
    "    # Save Model\n",
    "    saver = tf.train.Saver()\n",
    "    save_path = saver.save(sess, save_model_path)"
   ]
  },
  {
   "cell_type": "markdown",
   "metadata": {
    "deletable": true,
    "editable": true
   },
   "source": [
    "# Checkpoint\n",
    "The model has been saved to disk.\n",
    "## Test Model\n",
    "Test your model against the test dataset.  This will be your final accuracy. You should have an accuracy greater than 50%. If you don't, keep tweaking the model architecture and parameters."
   ]
  },
  {
   "cell_type": "code",
   "execution_count": 158,
   "metadata": {
    "collapsed": false,
    "deletable": true,
    "editable": true
   },
   "outputs": [
    {
     "name": "stdout",
     "output_type": "stream",
     "text": [
      "Testing Accuracy: 0.7026305379746836\n",
      "\n"
     ]
    },
    {
     "data": {
      "image/png": "[encoded data removed]",
      "text/plain": [
       "<matplotlib.figure.Figure at 0x7f0fa859f940>"
      ]
     },
     "metadata": {
      "image/png": {
       "height": 319,
       "width": 355
      }
     },
     "output_type": "display_data"
    }
   ],
   "source": [
    "\"\"\"\n",
    "DON'T MODIFY ANYTHING IN THIS CELL\n",
    "\"\"\"\n",
    "%matplotlib inline\n",
    "%config InlineBackend.figure_format = 'retina'\n",
    "\n",
    "import tensorflow as tf\n",
    "import pickle\n",
    "import helper\n",
    "import random\n",
    "\n",
    "# Set batch size if not already set\n",
    "try:\n",
    "    if batch_size:\n",
    "        pass\n",
    "except NameError:\n",
    "    batch_size = 64\n",
    "\n",
    "save_model_path = './image_classification'\n",
    "n_samples = 4\n",
    "top_n_predictions = 3\n",
    "\n",
    "def test_model():\n",
    "    \"\"\"\n",
    "    Test the saved model against the test dataset\n",
    "    \"\"\"\n",
    "\n",
    "    test_features, test_labels = pickle.load(open('preprocess_training.p', mode='rb'))\n",
    "    loaded_graph = tf.Graph()\n",
    "\n",
    "    with tf.Session(graph=loaded_graph) as sess:\n",
    "        # Load model\n",
    "        loader = tf.train.import_meta_graph(save_model_path + '.meta')\n",
    "        loader.restore(sess, save_model_path)\n",
    "\n",
    "        # Get Tensors from loaded model\n",
    "        loaded_x = loaded_graph.get_tensor_by_name('x:0')\n",
    "        loaded_y = loaded_graph.get_tensor_by_name('y:0')\n",
    "        loaded_keep_prob = loaded_graph.get_tensor_by_name('keep_prob:0')\n",
    "        loaded_logits = loaded_graph.get_tensor_by_name('logits:0')\n",
    "        loaded_acc = loaded_graph.get_tensor_by_name('accuracy:0')\n",
    "        \n",
    "        # Get accuracy in batches for memory limitations\n",
    "        test_batch_acc_total = 0\n",
    "        test_batch_count = 0\n",
    "        \n",
    "        for train_feature_batch, train_label_batch in helper.batch_features_labels(test_features, test_labels, batch_size):\n",
    "            test_batch_acc_total += sess.run(\n",
    "                loaded_acc,\n",
    "                feed_dict={loaded_x: train_feature_batch, loaded_y: train_label_batch, loaded_keep_prob: 1.0})\n",
    "            test_batch_count += 1\n",
    "\n",
    "        print('Testing Accuracy: {}\\n'.format(test_batch_acc_total/test_batch_count))\n",
    "\n",
    "        # Print Random Samples\n",
    "        random_test_features, random_test_labels = tuple(zip(*random.sample(list(zip(test_features, test_labels)), n_samples)))\n",
    "        random_test_predictions = sess.run(\n",
    "            tf.nn.top_k(tf.nn.softmax(loaded_logits), top_n_predictions),\n",
    "            feed_dict={loaded_x: random_test_features, loaded_y: random_test_labels, loaded_keep_prob: 1.0})\n",
    "        helper.display_image_predictions(random_test_features, random_test_labels, random_test_predictions)\n",
    "\n",
    "\n",
    "test_model()"
   ]
  },
  {
   "cell_type": "markdown",
   "metadata": {
    "deletable": true,
    "editable": true
   },
   "source": [
    "## Why 50-80% Accuracy?\n",
    "You might be wondering why you can't get an accuracy any higher. First things first, 50% isn't bad for a simple CNN.  Pure guessing would get you 10% accuracy. However, you might notice people are getting scores [well above 80%](http://rodrigob.github.io/are_we_there_yet/build/classification_datasets_results.html#43494641522d3130).  That's because we haven't taught you all there is to know about neural networks. We still need to cover a few more techniques.\n",
    "## Submitting This Project\n",
    "When submitting this project, make sure to run all the cells before saving the notebook.  Save the notebook file as \"dlnd_image_classification.ipynb\" and save it as a HTML file under \"File\" -> \"Download as\".  Include the \"helper.py\" and \"problem_unittests.py\" files in your submission."
   ]
  },
  {
   "cell_type": "code",
   "execution_count": null,
   "metadata": {
    "collapsed": true,
    "deletable": true,
    "editable": true
   },
   "outputs": [],
   "source": []
  }
 ],
 "metadata": {
  "kernelspec": {
   "display_name": "Python 3",
   "language": "python",
   "name": "python3"
  },
  "language_info": {
   "codemirror_mode": {
    "name": "ipython",
    "version": 3
   },
   "file_extension": ".py",
   "mimetype": "text/x-python",
   "name": "python",
   "nbconvert_exporter": "python",
   "pygments_lexer": "ipython3",
   "version": "3.5.3"
  }
 },
 "nbformat": 4,
 "nbformat_minor": 0
}
